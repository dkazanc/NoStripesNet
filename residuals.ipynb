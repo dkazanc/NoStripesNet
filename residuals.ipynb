{
 "cells": [
  {
   "cell_type": "markdown",
   "id": "2bb59d35",
   "metadata": {},
   "source": [
    "# Visualize & Compare Residuals of Ring Removal Methods"
   ]
  },
  {
   "cell_type": "markdown",
   "id": "246914a8",
   "metadata": {},
   "source": [
    "## Imports"
   ]
  },
  {
   "cell_type": "code",
   "execution_count": null,
   "id": "7c16b749",
   "metadata": {
    "scrolled": false
   },
   "outputs": [],
   "source": [
    "from datetime import datetime\n",
    "from pathlib import Path\n",
    "import numpy as np\n",
    "import matplotlib.pyplot as plt\n",
    "plt.rcParams[\"figure.figsize\"] = (12, 8)\n",
    "plt.rcParams[\"figure.dpi\"] = 300\n",
    "import torch\n",
    "from torch.nn.parallel import DataParallel as DP, DistributedDataParallel as DDP\n",
    "\n",
    "from tomopy.prep.stripe import remove_stripe_fw, remove_stripe_based_sorting\n",
    "from larix.methods.misc import INPAINT_EUCL_WEIGHTED, INPAINT_NDF, INPAINT_NM\n",
    "\n",
    "from network.patch_visualizer import PatchVisualizer\n",
    "from network.models import MaskedGAN\n",
    "from network.models.generators import PatchUNet\n",
    "from network.models.discriminators import PatchDiscriminator\n",
    "from utils.data_io import loadTiff, rescale\n",
    "from utils.tomography import reconstruct\n",
    "from utils.misc import toTensor, toNumpy\n",
    "\n",
    "%load_ext autoreload\n",
    "%autoreload 2\n",
    "\n",
    "# Number of threads for OpenMP. If too high, may cause error\n",
    "%env OMP_NUM_THREADS=16"
   ]
  },
  {
   "cell_type": "markdown",
   "id": "c80fc233",
   "metadata": {},
   "source": [
    "## Functions\n",
    "TomoPy edits sinograms in-place, so we must copy the input to avoid changing it.<br>\n",
    "TomoPy also expects 3D volumes to have shape `(angles, det Y, det X)` so we must swap axes 0 and 1."
   ]
  },
  {
   "cell_type": "code",
   "execution_count": null,
   "id": "d05fd8d2",
   "metadata": {},
   "outputs": [],
   "source": [
    "def fourier_wavelet(sino_volume, ncore=None, **kwargs):\n",
    "    inpt = sino_volume.copy().swapaxes(0, 1)\n",
    "    output = remove_stripe_fw(inpt, ncore=ncore, **kwargs)\n",
    "    return output.swapaxes(0, 1)\n",
    "\n",
    "def remove_stripes_based_sorting(sino_volume, size=21, dim=1, ncore=None):\n",
    "    inpt = sino_volume.copy().swapaxes(0, 1)\n",
    "    output = remove_stripe_based_sorting(inpt, size, dim, ncore=ncore)\n",
    "    return output.swapaxes(0, 1)\n",
    "\n",
    "def remove_stripes_larix(sino_volume, mask, mode='NDF'):\n",
    "    if mode == 'NDF':\n",
    "        func = INPAINT_NDF\n",
    "        kwargs = dict(regularisation_parameter=5000, edge_parameter=0, iterationsNumb=5000,\n",
    "                      time_marching_parameter=0.000075, penalty_type=1)\n",
    "    elif mode == 'EUCL':\n",
    "        func = INPAINT_EUCL_WEIGHTED\n",
    "        kwargs = dict(iterationsNumb=3, windowsize_half=2, method_type='random')\n",
    "    elif mode == 'NM':\n",
    "        func = INPAINT_NM\n",
    "        kwargs = dict(SW_increment=2, iterationsNumb=150)\n",
    "    else:\n",
    "        raise ValueError(f\"Mode {mode} not recognized.\")\n",
    "    inpainted = np.empty_like(sino_volume)\n",
    "    for s in range(sino_volume.shape[0]):\n",
    "        inpainted[s] = func(sino_volume[s], mask[s], **kwargs)\n",
    "    return inpainted"
   ]
  },
  {
   "cell_type": "code",
   "execution_count": null,
   "id": "80a1f842",
   "metadata": {},
   "outputs": [],
   "source": [
    "def load_model(path, device=None):\n",
    "    # Load model state dict from disk\n",
    "    checkpoint = torch.load(path, map_location=device)\n",
    "    # Initialize Generator and Discriminator\n",
    "    gen = DP(PatchUNet())\n",
    "    gen.load_state_dict(checkpoint['gen_state_dict'])\n",
    "    disc = DP(PatchDiscriminator())\n",
    "    disc.load_state_dict(checkpoint['disc_state_dict'])\n",
    "    # Initialize Model\n",
    "    model = MaskedGAN(gen, disc, mode='test', device=device)\n",
    "    return model"
   ]
  },
  {
   "cell_type": "markdown",
   "id": "55d29af3",
   "metadata": {},
   "source": [
    "## Setup"
   ]
  },
  {
   "cell_type": "markdown",
   "id": "e54116e0",
   "metadata": {},
   "source": [
    "### Parameters"
   ]
  },
  {
   "cell_type": "code",
   "execution_count": null,
   "id": "ad6ba36e",
   "metadata": {
    "scrolled": true
   },
   "outputs": [],
   "source": [
    "i12 = Path('/dls/i12/data/2022/nt33730-1/processing/NoStripesNet')\n",
    "data_dir = i12/'data'/'wider_stripes'\n",
    "model_file = i12/'pretrained_models'/'five_sample'/'4x4'/'val'/'five_sample_4x4_100.tar'\n",
    "mask_file = i12/'stripe_masks.npz'\n",
    "\n",
    "if torch.cuda.is_available():\n",
    "    d = torch.device('cuda')\n",
    "else:\n",
    "    d = torch.device('cpu')\n",
    "\n",
    "rng = np.random.default_rng()\n",
    "cor = 1253\n",
    "sample_no = 0\n",
    "print(f\"Sample No.: {sample_no}\")"
   ]
  },
  {
   "cell_type": "markdown",
   "id": "51d1c921",
   "metadata": {},
   "source": [
    "### Load Model & Visualizer"
   ]
  },
  {
   "cell_type": "code",
   "execution_count": null,
   "id": "c223ccbc",
   "metadata": {
    "scrolled": true
   },
   "outputs": [],
   "source": [
    "model = load_model(model_file, device=d)\n",
    "v = PatchVisualizer(data_dir, model, sample_no=sample_no, mask_file=mask_file,\n",
    "                    full_sino_size=(1801, 2560), patch_size=(1801, 256))\n",
    "\n",
    "# Correct masks so they cover stripes better\n",
    "if (data_dir == i12/'data'/'wider_stripes' and sample_no == 0) or data_dir == i12/'data'/'dynamic2' or \\\n",
    "(data_dir == i12/'data'/'external' and sample_no == 1):\n",
    "    if data_dir == i12/'data'/'external' and sample_no == 1:\n",
    "        del v.mask\n",
    "        v.mask = np.load(mask_file)['m119643']\n",
    "        assert v.mask.shape == (1800, 2160, 2560)\n",
    "    v.mask[:, 852, 1654:1669] = 1\n",
    "    v.mask[:, 852, 1089:1110] = 1\n",
    "    v.mask[:, 1080, 1219:1232] = 1\n",
    "    v.mask[:, 1200, 580:593] = 1\n",
    "    v.mask[:, 1200, 1399:1410] = 1\n",
    "    v.mask[:, 1200, 1474:1489] = 1\n",
    "    v.mask[:, 1200, 1662:1679] = 1\n",
    "    v.mask[:, 1200, 1875:1892] = 1\n",
    "    v.mask[:, 988, 1480:1501] = 1\n",
    "    v.mask[:, 419, 1019:1034] = 1\n",
    "    v.mask[:, 950, 1719:1728] = 1\n",
    "    v.mask[:, 1507, :] = 0\n",
    "    v.mask[:, 1507, 1743:1754] = 1\n",
    "    v.mask[:, 1507, 1235:1240] = 1\n",
    "    v.mask[:, 1070, 624:643] = 1\n",
    "    v.mask[:, 1070, 872:889] = 1\n",
    "elif data_dir == i12/'data'/'external' and sample_no == 0:\n",
    "    v.mask[:, 1128, :] = 0\n",
    "    v.mask[:, 1128, 868:889] = 1\n",
    "    v.mask[:, 1128, 1724:1735] = 1\n",
    "else:\n",
    "    print(f\"Mask correction for '{data_dir}' is not implemented.\")"
   ]
  },
  {
   "cell_type": "markdown",
   "id": "e33e9a5e",
   "metadata": {},
   "source": [
    "# Residuals"
   ]
  },
  {
   "cell_type": "markdown",
   "id": "50dd82a2",
   "metadata": {},
   "source": [
    "## Synthetic Artifacts"
   ]
  },
  {
   "cell_type": "markdown",
   "id": "972cf9fb",
   "metadata": {},
   "source": [
    "### Sinograms "
   ]
  },
  {
   "cell_type": "code",
   "execution_count": null,
   "id": "e07ca883",
   "metadata": {},
   "outputs": [],
   "source": [
    "sino_idx = rng.choice(v.clean_idxs)\n",
    "print(f\"Sino index: {sino_idx}\")\n",
    "\n",
    "clean_sino = v.get_sinogram(sino_idx, 'clean')\n",
    "stripe_sino = v.get_sinogram(sino_idx, 'stripe')\n",
    "mask = np.abs(clean_sino - stripe_sino).astype(np.bool_, copy=False)\n",
    "\n",
    "sinos = [\n",
    "    stripe_sino,\n",
    "    fourier_wavelet(stripe_sino[None, :, :], level=None, wname='db5', sigma=0.6, pad=True, ncore=16).squeeze(),\n",
    "    remove_stripes_based_sorting(stripe_sino[None, :, :].astype(np.float32), size=31, dim=1, ncore=16).squeeze(),\n",
    "    remove_stripes_larix(stripe_sino[None, :, :], mask[None, :, :], mode='EUCL').squeeze(),\n",
    "    v.get_model_sinogram(sino_idx, 'fake')\n",
    "]\n",
    "\n",
    "sino_residuals = [np.square(sino - clean_sino) for sino in sinos]"
   ]
  },
  {
   "cell_type": "code",
   "execution_count": null,
   "id": "0bcb0312",
   "metadata": {},
   "outputs": [],
   "source": [
    "fig, axs = plt.subplots(2, 5, figsize=(12, 8), dpi=300)\n",
    "fig.subplots_adjust(hspace=-0.72, wspace=0.12)\n",
    "for ax in axs.ravel():\n",
    "    ax.axis('off')\n",
    "    \n",
    "axs[0, 0].set_title(\"Stripe\")\n",
    "axs[0, 1].set_title(\"Fourier Wavelet\")\n",
    "axs[0, 2].set_title(\"Sorting\")\n",
    "axs[0, 3].set_title(\"Algorithmic Inpainting\")\n",
    "axs[0, 4].set_title(\"cGAN Inpainting\")\n",
    "axs[0, 0].text(-450, 900, \"Sinogram\", size=12, verticalalignment='center', rotation=90)\n",
    "axs[1, 0].text(-450, 900, \"Residual\", size=12, verticalalignment='center', rotation=90)\n",
    "    \n",
    "for i in range(len(sinos)):\n",
    "    axs[0, i].imshow(sinos[i], cmap='gray')\n",
    "    axs[1, i].imshow(sino_residuals[i], cmap='magma', vmin=0, vmax=100000)"
   ]
  },
  {
   "cell_type": "markdown",
   "id": "91f7f2fe",
   "metadata": {},
   "source": [
    "### Reconstructions"
   ]
  },
  {
   "cell_type": "code",
   "execution_count": null,
   "id": "fc02436b",
   "metadata": {},
   "outputs": [],
   "source": [
    "clean_recon = reconstruct(clean_sino, rot_center=cor, ncore=16)\n",
    "recons = [reconstruct(sino, rot_center=cor, ncore=16) for sino in sinos]\n",
    "recon_residuals = [np.square(recon - clean_recon) for recon in recons]"
   ]
  },
  {
   "cell_type": "code",
   "execution_count": null,
   "id": "1c729712",
   "metadata": {},
   "outputs": [],
   "source": [
    "fig, axs = plt.subplots(2, 5, figsize=(12, 8), dpi=300)\n",
    "fig.subplots_adjust(hspace=-0.57, wspace=0.14)\n",
    "for ax in axs.ravel():\n",
    "    ax.axis('off')\n",
    "    \n",
    "axs[0, 0].set_title(\"Stripe\")\n",
    "axs[0, 1].set_title(\"Fourier Wavelet\")\n",
    "axs[0, 2].set_title(\"Sorting\")\n",
    "axs[0, 3].set_title(\"Algorithmic Inpainting\")\n",
    "axs[0, 4].set_title(\"cGAN Inpainting\")\n",
    "axs[0, 0].text(-450, 1280, \"Reconstruction\", size=12, verticalalignment='center', rotation=90)\n",
    "axs[1, 0].text(-450, 1280, \"Residual\", size=12, verticalalignment='center', rotation=90)\n",
    "    \n",
    "for i in range(len(recons)):\n",
    "    axs[0, i].imshow(recons[i], cmap='gray', vmin=-0.02, vmax=0.14)\n",
    "    axs[1, i].imshow(recon_residuals[i], cmap='magma', vmin=0, vmax=0.0005)"
   ]
  },
  {
   "cell_type": "markdown",
   "id": "6b9af988",
   "metadata": {},
   "source": [
    "## Real-life Artifacts"
   ]
  },
  {
   "cell_type": "markdown",
   "id": "0f88cde3",
   "metadata": {},
   "source": [
    "### Sinograms "
   ]
  },
  {
   "cell_type": "code",
   "execution_count": null,
   "id": "a56ed983",
   "metadata": {},
   "outputs": [],
   "source": [
    "sino_idx = rng.choice(v.stripe_idxs)\n",
    "print(f\"Sino index: {sino_idx}\")\n",
    "\n",
    "stripe_sino = v.get_sinogram(sino_idx, 'raw')\n",
    "mask = v.mask[:, sino_idx, :]\n",
    "\n",
    "sinos = [\n",
    "    stripe_sino,\n",
    "    fourier_wavelet(stripe_sino[None, :, :], ncore=16).squeeze(),\n",
    "    remove_stripes_based_sorting(stripe_sino[None, :, :].astype(np.float32), ncore=16).squeeze(),\n",
    "    remove_stripes_larix(stripe_sino[None, :, :], mask[None, :, :], mode='EUCL').squeeze(),\n",
    "    v.get_model_sinogram(sino_idx, 'real')\n",
    "]\n",
    "\n",
    "sino_residuals = [np.square(sino - stripe_sino) for sino in sinos]"
   ]
  },
  {
   "cell_type": "code",
   "execution_count": null,
   "id": "cac94137",
   "metadata": {
    "scrolled": false
   },
   "outputs": [],
   "source": [
    "fig, axs = plt.subplots(2, 5, figsize=(12, 8), dpi=300)\n",
    "fig.subplots_adjust(hspace=-0.72, wspace=0.12)\n",
    "for ax in axs.ravel():\n",
    "    ax.axis('off')\n",
    "    \n",
    "axs[0, 0].set_title(\"Stripe\")\n",
    "axs[0, 1].set_title(\"Fourier Wavelet\")\n",
    "axs[0, 2].set_title(\"Sorting\")\n",
    "axs[0, 3].set_title(\"Algorithmic Inpainting\")\n",
    "axs[0, 4].set_title(\"cGAN Inpainting\")\n",
    "axs[0, 0].text(-450, 900, \"Sinogram\", size=12, verticalalignment='center', rotation=90)\n",
    "axs[1, 0].text(-450, 900, \"Residual\", size=12, verticalalignment='center', rotation=90)\n",
    "    \n",
    "for i in range(len(sinos)):\n",
    "    axs[0, i].imshow(sinos[i], cmap='gray')\n",
    "    axs[1, i].imshow(sino_residuals[i], cmap='magma', vmin=0, vmax=75000)"
   ]
  },
  {
   "cell_type": "markdown",
   "id": "28d1e84e",
   "metadata": {},
   "source": [
    "#### Zoom on Stripe Region"
   ]
  },
  {
   "cell_type": "code",
   "execution_count": null,
   "id": "39ee429a",
   "metadata": {},
   "outputs": [],
   "source": [
    "roi = np.s_[:, 1000:1750]\n",
    "zoomed_sinos = [sino[roi] for sino in sinos]\n",
    "zoomed_sino_resduals = [sino_residual[roi] for sino_residual in sino_residuals]"
   ]
  },
  {
   "cell_type": "code",
   "execution_count": null,
   "id": "ade7d94c",
   "metadata": {},
   "outputs": [],
   "source": [
    "fig, axs = plt.subplots(2, 5, figsize=(8, 6), dpi=300)\n",
    "fig.subplots_adjust(wspace=-0.5)\n",
    "for ax in axs.ravel():\n",
    "    ax.axis('off')\n",
    "    \n",
    "axs[0, 0].set_title(\"Stripe\")\n",
    "axs[0, 1].set_title(\"Fourier Wavelet\")\n",
    "axs[0, 2].set_title(\"Sorting\")\n",
    "axs[0, 3].set_title(\"Algorithmic\\nInpainting\")\n",
    "axs[0, 4].set_title(\"cGAN\\nInpainting\")\n",
    "axs[0, 0].text(-150, 900, \"Reconstruction\", size=12, verticalalignment='center', rotation=90)\n",
    "axs[1, 0].text(-150, 900, \"Residual\", size=12, verticalalignment='center', rotation=90)\n",
    "    \n",
    "for i in range(len(sinos)):\n",
    "    axs[0, i].imshow(zoomed_sinos[i], cmap='gray')\n",
    "    axs[1, i].imshow(zoomed_sino_resduals[i], cmap='magma', vmin=0, vmax=75000)\n",
    "    \n",
    "fig.tight_layout()"
   ]
  },
  {
   "cell_type": "markdown",
   "id": "4b59bd48",
   "metadata": {},
   "source": [
    "### Reconstructions"
   ]
  },
  {
   "cell_type": "code",
   "execution_count": null,
   "id": "3c3a8680",
   "metadata": {},
   "outputs": [],
   "source": [
    "recons = [reconstruct(sino, rot_center=cor, ncore=16) for sino in sinos]\n",
    "recon_residuals = [np.square(recon - recons[0]) for recon in recons]"
   ]
  },
  {
   "cell_type": "code",
   "execution_count": null,
   "id": "0e868d1f",
   "metadata": {},
   "outputs": [],
   "source": [
    "fig, axs = plt.subplots(2, 5, figsize=(12, 8), dpi=300)\n",
    "fig.subplots_adjust(hspace=-0.57, wspace=0.14)\n",
    "for ax in axs.ravel():\n",
    "    ax.axis('off')\n",
    "    \n",
    "axs[0, 0].set_title(\"Stripe\")\n",
    "axs[0, 1].set_title(\"Fourier Wavelet\")\n",
    "axs[0, 2].set_title(\"Sorting\")\n",
    "axs[0, 3].set_title(\"Algorithmic Inpainting\")\n",
    "axs[0, 4].set_title(\"cGAN Inpainting\")\n",
    "axs[0, 0].text(-450, 1280, \"Reconstruction\", size=12, verticalalignment='center', rotation=90)\n",
    "axs[1, 0].text(-450, 1280, \"Residual\", size=12, verticalalignment='center', rotation=90)\n",
    "    \n",
    "for i in range(len(recons)):\n",
    "    axs[0, i].imshow(recons[i], cmap='gray', vmin=-0.02, vmax=0.14)\n",
    "    axs[1, i].imshow(recon_residuals[i], cmap='magma', vmin=0, vmax=0.001)"
   ]
  },
  {
   "cell_type": "markdown",
   "id": "4546989b",
   "metadata": {},
   "source": [
    "#### Zoom On Ring Region"
   ]
  },
  {
   "cell_type": "code",
   "execution_count": null,
   "id": "54f17446",
   "metadata": {},
   "outputs": [],
   "source": [
    "roi = np.s_[750:1600, 750:1810]\n",
    "zoomed_recons = [recon[roi] for recon in recons]\n",
    "zoomed_recon_resduals = [recon_residual[roi] for recon_residual in recon_residuals]"
   ]
  },
  {
   "cell_type": "code",
   "execution_count": null,
   "id": "87d422e5",
   "metadata": {},
   "outputs": [],
   "source": [
    "fig, axs = plt.subplots(2, 5, figsize=(12, 8), dpi=300)\n",
    "fig.subplots_adjust(hspace=-0.65, wspace=0.1)\n",
    "for ax in axs.ravel():\n",
    "    ax.axis('off')\n",
    "    \n",
    "axs[0, 0].set_title(\"Stripe\")\n",
    "axs[0, 1].set_title(\"Fourier Wavelet\")\n",
    "axs[0, 2].set_title(\"Sorting\")\n",
    "axs[0, 3].set_title(\"Algorithmic Inpainting\")\n",
    "axs[0, 4].set_title(\"cGAN Inpainting\")\n",
    "axs[0, 0].text(-150, 480, \"Reconstruction\", size=12, verticalalignment='center', rotation=90)\n",
    "axs[1, 0].text(-150, 480, \"Residual\", size=12, verticalalignment='center', rotation=90)\n",
    "    \n",
    "for i in range(len(recons)):\n",
    "    axs[0, i].imshow(zoomed_recons[i], cmap='gray', vmin=-0.02, vmax=0.14)\n",
    "    axs[1, i].imshow(zoomed_recon_resduals[i], cmap='magma', vmin=0, vmax=0.0005)"
   ]
  }
 ],
 "metadata": {
  "kernelspec": {
   "display_name": "NoStripesNet (cluster) [User Conda - nsn_cluster]",
   "language": "python",
   "name": "conda-env-User_Conda_-_nsn_cluster-nsn_cluster"
  },
  "language_info": {
   "codemirror_mode": {
    "name": "ipython",
    "version": 3
   },
   "file_extension": ".py",
   "mimetype": "text/x-python",
   "name": "python",
   "nbconvert_exporter": "python",
   "pygments_lexer": "ipython3",
   "version": "3.9.16"
  }
 },
 "nbformat": 4,
 "nbformat_minor": 5
}
