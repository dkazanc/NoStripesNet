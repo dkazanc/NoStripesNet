{
 "cells": [
  {
   "cell_type": "markdown",
   "id": "d59848bc",
   "metadata": {},
   "source": [
    "# Compare Model to Algorithmic Approaches"
   ]
  },
  {
   "cell_type": "markdown",
   "id": "246914a8",
   "metadata": {},
   "source": [
    "## Imports"
   ]
  },
  {
   "cell_type": "code",
   "execution_count": 1,
   "id": "7c16b749",
   "metadata": {},
   "outputs": [
    {
     "name": "stdout",
     "output_type": "stream",
     "text": [
      "env: OMP_NUM_THREADS=16\n"
     ]
    },
    {
     "name": "stderr",
     "output_type": "stream",
     "text": [
      "[home:74834] mca_base_component_repository_open: unable to open mca_btl_openib: librdmacm.so.1: cannot open shared object file: No such file or directory (ignored)\n"
     ]
    }
   ],
   "source": [
    "from datetime import datetime\n",
    "from pathlib import Path\n",
    "import numpy as np\n",
    "import matplotlib.pyplot as plt\n",
    "plt.rcParams[\"figure.figsize\"] = (12, 8)\n",
    "plt.rcParams[\"figure.dpi\"] = 300\n",
    "import torch\n",
    "from torch.nn.parallel import DataParallel as DP, DistributedDataParallel as DDP\n",
    "\n",
    "from tomopy.prep.stripe import remove_stripe_fw, remove_stripe_based_sorting\n",
    "#from larix.methods.misc import INPAINT_EUCL_WEIGHTED, INPAINT_NDF, INPAINT_NM\n",
    "from tomopy.misc.corr import inpainter_morph\n",
    "\n",
    "from network.patch_visualizer import PatchVisualizer\n",
    "from network.models import MaskedGAN\n",
    "from network.models.generators import PatchUNet\n",
    "from network.models.discriminators import PatchDiscriminator\n",
    "from utils.data_io import loadTiff\n",
    "from utils.tomography import reconstruct\n",
    "\n",
    "# Number of threads for OpenMP. If too high, may cause error\n",
    "%env OMP_NUM_THREADS=16"
   ]
  },
  {
   "cell_type": "markdown",
   "id": "c80fc233",
   "metadata": {},
   "source": [
    "## Functions\n",
    "TomoPy edits sinograms in-place, so we must copy the input to avoid changing it.<br>\n",
    "TomoPy also expects 3D volumes to have shape `(angles, det Y, det X)` so we must swap axes 0 and 1."
   ]
  },
  {
   "cell_type": "code",
   "execution_count": 2,
   "id": "d05fd8d2",
   "metadata": {},
   "outputs": [],
   "source": [
    "def fourier_wavelet(sino_volume, level=None, wname='db5', sigma=2, pad=True, ncore=None):\n",
    "    inpt = sino_volume.copy().swapaxes(0, 1)\n",
    "    output = remove_stripe_fw(inpt, level, wname, sigma, pad, ncore=ncore)\n",
    "    return output.swapaxes(0, 1)\n",
    "\n",
    "\n",
    "def remove_stripes_based_sorting(sino_volume, size=21, dim=1, ncore=None):\n",
    "    inpt = sino_volume.copy().swapaxes(0, 1)\n",
    "    output = remove_stripe_based_sorting(inpt, size, dim, ncore=ncore)\n",
    "    return output.swapaxes(0, 1)\n",
    "\n",
    "\n",
    "def remove_stripes_larix(sino_volume, mask, mode='NDF'):\n",
    "    if mode == 'NDF':\n",
    "        func = INPAINT_NDF\n",
    "        kwargs = dict(regularisation_parameter=5000, edge_parameter=0, iterationsNumb=5000,\n",
    "                      time_marching_parameter=0.000075, penalty_type=1)\n",
    "    elif mode == 'EUCL':\n",
    "        func = INPAINT_EUCL_WEIGHTED\n",
    "        kwargs = dict(iterationsNumb=3, windowsize_half=2, method_type='random')\n",
    "    elif mode == 'NM':\n",
    "        func = INPAINT_NM\n",
    "        kwargs = dict(SW_increment=2, iterationsNumb=150)\n",
    "    else:\n",
    "        raise ValueError(f\"Mode {mode} not recognized.\")\n",
    "    inpainted = np.empty_like(sino_volume)\n",
    "    for s in range(sino_volume.shape[0]):\n",
    "        inpainted[s] = func(sino_volume[s], mask[s], **kwargs)\n",
    "    return inpainted\n",
    "\n",
    "def inpaint_stripes_tomopy(sino_volume, mask, inpainting_type='random'):\n",
    "    func = inpainter_morph\n",
    "    kwargs = dict(size=5,\n",
    "                  iterations=5,\n",
    "                  inpainting_type=inpainting_type,\n",
    "                  method_type='2D')\n",
    "    inpainted = np.empty_like(sino_volume)\n",
    "    for s in range(sino_volume.shape[0]):\n",
    "        inpainted[s] = func(sino_volume[s], mask[s].astype(bool), **kwargs)\n",
    "    return inpainted"
   ]
  },
  {
   "cell_type": "code",
   "execution_count": 3,
   "id": "b02fb1d1",
   "metadata": {},
   "outputs": [],
   "source": [
    "def root_mean_squared_error(data1, data2, axis=None):\n",
    "    return np.sqrt(np.mean(np.square(data1 - data2), axis=axis))"
   ]
  },
  {
   "cell_type": "code",
   "execution_count": 4,
   "id": "80a1f842",
   "metadata": {},
   "outputs": [],
   "source": [
    "def load_model(path, device=None):\n",
    "    # Load model state dict from disk\n",
    "    checkpoint = torch.load(path, map_location=device)\n",
    "    # Initialize Generator and Discriminator\n",
    "    gen = DP(PatchUNet())\n",
    "    gen.load_state_dict(checkpoint['gen_state_dict'])\n",
    "    disc = DP(PatchDiscriminator())\n",
    "    disc.load_state_dict(checkpoint['disc_state_dict'])\n",
    "    # Initialize Model\n",
    "    model = MaskedGAN(gen, disc, mode='test', device=device)\n",
    "    return model"
   ]
  },
  {
   "cell_type": "markdown",
   "id": "55d29af3",
   "metadata": {},
   "source": [
    "## Setup"
   ]
  },
  {
   "cell_type": "markdown",
   "id": "e54116e0",
   "metadata": {},
   "source": [
    "### Parameters"
   ]
  },
  {
   "cell_type": "code",
   "execution_count": 7,
   "id": "ad6ba36e",
   "metadata": {},
   "outputs": [
    {
     "name": "stdout",
     "output_type": "stream",
     "text": [
      "Sample No.: 0\n"
     ]
    }
   ],
   "source": [
    "#i12 = Path('/dls/i12/data/2022/nt33730-1/processing/NoStripesNet')\n",
    "i12 = Path('/media/algol/HD-LXU3/No_stripes_net_data/')\n",
    "data_dir = i12/'data'/'wider_stripes'\n",
    "model_file = i12/'pretrained_models'/'five_sample'/'4x4'/'val'/'five_sample_4x4_100.tar'\n",
    "mask_file = i12/'stripe_masks.npz'\n",
    "if torch.cuda.is_available():\n",
    "    d = torch.device('cuda')\n",
    "else:\n",
    "    d = torch.device('cpu')\n",
    "\n",
    "rng = np.random.default_rng()\n",
    "sample_no = 0\n",
    "print(f\"Sample No.: {sample_no}\")"
   ]
  },
  {
   "cell_type": "markdown",
   "id": "93233153",
   "metadata": {},
   "source": [
    "### Load Model & Visualizer"
   ]
  },
  {
   "cell_type": "code",
   "execution_count": 8,
   "id": "90a02d68",
   "metadata": {},
   "outputs": [],
   "source": [
    "model = load_model(model_file, device=d)\n",
    "v = PatchVisualizer(data_dir, model, sample_no=sample_no, mask_file=mask_file)"
   ]
  },
  {
   "cell_type": "markdown",
   "id": "3a50d7b3",
   "metadata": {},
   "source": [
    "### Load Clean & Stripe Volumes"
   ]
  },
  {
   "cell_type": "code",
   "execution_count": null,
   "id": "8dc0ec83",
   "metadata": {},
   "outputs": [],
   "source": [
    "cleans = []\n",
    "stripes = []\n",
    "start_time = datetime.now()\n",
    "for idx in v.clean_idxs:\n",
    "    cleans.append(v.get_sinogram(idx, 'clean').astype(np.float32))\n",
    "    stripes.append(v.get_sinogram(idx, 'stripe').astype(np.float32))\n",
    "cleans = np.asarray(cleans)\n",
    "stripes = np.asarray(stripes)\n",
    "mask = np.abs(cleans - stripes).astype(bool, copy=False)\n",
    "print(f\"Loading finished in {datetime.now() - start_time}s\")\n",
    "print(f\"{cleans.shape=}, {cleans.dtype=}\")\n",
    "print(f\"{stripes.shape=}, {stripes.dtype=}\")\n",
    "print(f\"{mask.shape=}, {mask.dtype=}\")"
   ]
  },
  {
   "cell_type": "markdown",
   "id": "2971cb04",
   "metadata": {},
   "source": [
    "## Calculate RMSEs"
   ]
  },
  {
   "cell_type": "markdown",
   "id": "987368a9",
   "metadata": {},
   "source": [
    "### RMSE from Clean to Stripe (i.e. control)"
   ]
  },
  {
   "cell_type": "code",
   "execution_count": 8,
   "id": "3759908f",
   "metadata": {},
   "outputs": [
    {
     "name": "stdout",
     "output_type": "stream",
     "text": [
      "rmse_stripes = 4886.932\n"
     ]
    }
   ],
   "source": [
    "# calculating RMSE for the whole image\n",
    "rmse_control = root_mean_squared_error(cleans, stripes)\n",
    "# calculating RMSE for the stripes region ONLY\n",
    "rmse_stripes = root_mean_squared_error(cleans[mask == True], stripes[mask == True])\n",
    "print(f\"{rmse_stripes = }\")"
   ]
  },
  {
   "cell_type": "code",
   "execution_count": 9,
   "id": "5b2e4350",
   "metadata": {},
   "outputs": [
    {
     "name": "stdout",
     "output_type": "stream",
     "text": [
      "rmse_nostripes = 0.0\n"
     ]
    }
   ],
   "source": [
    "# calculating RMSE for the whole sinogram but not the stripes region\n",
    "rmse_nostripes = root_mean_squared_error(cleans[mask == False], stripes[mask == False])\n",
    "print(f\"{rmse_nostripes = }\")"
   ]
  },
  {
   "cell_type": "markdown",
   "id": "edc9d8fe",
   "metadata": {},
   "source": [
    "### RMSE of Fourier Wavelet"
   ]
  },
  {
   "cell_type": "code",
   "execution_count": 10,
   "id": "19964fbd",
   "metadata": {},
   "outputs": [
    {
     "name": "stdout",
     "output_type": "stream",
     "text": [
      "Time: 0:02:03.385654\n",
      "rmse_fw = 2066.9531\n",
      "rmse_fw_stripes = 3013.0122\n",
      "rmse_fw_nostripes = 2017.4863\n"
     ]
    }
   ],
   "source": [
    "start_time = datetime.now()\n",
    "fw = fourier_wavelet(stripes, level=None, wname='db5', sigma=0.6, pad=True, ncore=16)\n",
    "print(f\"Time: {datetime.now() - start_time}\")\n",
    "rmse_fw = root_mean_squared_error(cleans, fw)\n",
    "print(f\"{rmse_fw = }\")\n",
    "rmse_fw_stripes = root_mean_squared_error(cleans[mask == True], fw[mask == True])\n",
    "print(f\"{rmse_fw_stripes = }\")\n",
    "rmse_fw_nostripes = root_mean_squared_error(cleans[mask == False], fw[mask == False])\n",
    "print(f\"{rmse_fw_nostripes = }\")"
   ]
  },
  {
   "cell_type": "markdown",
   "id": "0113a96e",
   "metadata": {},
   "source": [
    "### RMSE of Sorting algorithm"
   ]
  },
  {
   "cell_type": "code",
   "execution_count": 11,
   "id": "979498b9",
   "metadata": {},
   "outputs": [
    {
     "name": "stdout",
     "output_type": "stream",
     "text": [
      "Time: 0:02:26.708789\n",
      "rmse_vo = 677.88464\n",
      "rmse_vo_stripes = 3220.4485\n",
      "rmse_vo_nostripes = 206.97923\n"
     ]
    }
   ],
   "source": [
    "start_time = datetime.now()\n",
    "vo_sorting = remove_stripes_based_sorting(stripes, size=31, dim=1, ncore=16)\n",
    "print(f\"Time: {datetime.now() - start_time}\")\n",
    "rmse_vo = root_mean_squared_error(cleans, vo_sorting)\n",
    "print(f\"{rmse_vo = }\")\n",
    "rmse_vo_stripes = root_mean_squared_error(cleans[mask == True], vo_sorting[mask == True])\n",
    "print(f\"{rmse_vo_stripes = }\")\n",
    "rmse_vo_nostripes = root_mean_squared_error(cleans[mask == False], vo_sorting[mask == False])\n",
    "print(f\"{rmse_vo_nostripes = }\")"
   ]
  },
  {
   "cell_type": "markdown",
   "id": "2ca6594e",
   "metadata": {},
   "source": [
    "### RMSE of Algorthmic Inpainting"
   ]
  },
  {
   "cell_type": "code",
   "execution_count": 12,
   "id": "b31ec075",
   "metadata": {},
   "outputs": [
    {
     "name": "stdout",
     "output_type": "stream",
     "text": [
      "Time: 0:18:59.963909\n",
      "rmse_euc=231.20004\n",
      "rmse_euc_stripes=1151.0647\n",
      "rmse_euc_nostripes=0\n"
     ]
    }
   ],
   "source": [
    "start_time = datetime.now()\n",
    "larix_euclidian = remove_stripes_larix(stripes, mask, mode='EUCL')\n",
    "print(f\"Time: {datetime.now() - start_time}\")\n",
    "rmse_euc = root_mean_squared_error(cleans, larix_euclidian)\n",
    "print(f\"{rmse_euc=}\")\n",
    "rmse_euc_stripes = root_mean_squared_error(cleans[mask == True], larix_euclidian[mask == True])\n",
    "print(f\"{rmse_euc_stripes=}\")\n",
    "rmse_euc_nostripes = 0 # for some reason doing RMSE for mask==False causes the kernel to die\n",
    "print(f\"{rmse_euc_nostripes=}\")"
   ]
  },
  {
   "cell_type": "markdown",
   "id": "1323a5a4",
   "metadata": {},
   "source": [
    "### RMSE of cGAN Inpainting"
   ]
  },
  {
   "cell_type": "code",
   "execution_count": 13,
   "id": "2870b8ef",
   "metadata": {},
   "outputs": [
    {
     "name": "stdout",
     "output_type": "stream",
     "text": [
      "rmse_nsn = 204.40088148354633\n",
      "rmse_nsn_stripe = 1017.6448093905587\n",
      "rmse_nsn_nostripes = 0\n"
     ]
    }
   ],
   "source": [
    "nsn = np.load(i12/'processed'/'model_output.npz')['synth']\n",
    "assert nsn.shape == cleans.shape\n",
    "rmse_nsn = root_mean_squared_error(cleans, nsn)\n",
    "print(f\"{rmse_nsn = }\")\n",
    "rmse_nsn_stripe = root_mean_squared_error(cleans[mask == True], nsn[mask == True])\n",
    "print(f\"{rmse_nsn_stripe = }\")\n",
    "rmse_nsn_nostripes = 0 # for some reason doing RMSE for mask==False causes the kernel to die\n",
    "print(f\"{rmse_nsn_nostripes = }\")"
   ]
  }
 ],
 "metadata": {
  "kernelspec": {
   "display_name": "Python 3 (ipykernel)",
   "language": "python",
   "name": "python3"
  },
  "language_info": {
   "codemirror_mode": {
    "name": "ipython",
    "version": 3
   },
   "file_extension": ".py",
   "mimetype": "text/x-python",
   "name": "python",
   "nbconvert_exporter": "python",
   "pygments_lexer": "ipython3",
   "version": "3.9.18"
  }
 },
 "nbformat": 4,
 "nbformat_minor": 5
}
